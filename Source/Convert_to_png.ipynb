{
 "cells": [
  {
   "cell_type": "code",
   "execution_count": 1,
   "id": "d907f6d1",
   "metadata": {},
   "outputs": [],
   "source": [
    "%load_ext autoreload\n",
    "%autoreload 2"
   ]
  },
  {
   "cell_type": "code",
   "execution_count": 3,
   "id": "68a42f54",
   "metadata": {},
   "outputs": [],
   "source": [
    "from pathlib import Path\n",
    "import os"
   ]
  },
  {
   "cell_type": "code",
   "execution_count": null,
   "id": "b8014f87",
   "metadata": {},
   "outputs": [],
   "source": [
    "# Run only once\n",
    "os.chdir(\"../../vhalid_data/\")\n",
    "loaddir = Path(\"Images\")\n",
    "parentdir = Path(\"ImagesPNG\")"
   ]
  },
  {
   "cell_type": "code",
   "execution_count": 135,
   "id": "851988e4",
   "metadata": {
    "scrolled": false
   },
   "outputs": [],
   "source": [
    "for i in loaddir.glob(\"**/*\"):\n",
    "    if \"Patient\" not in i.name:\n",
    "        savedir = Path.cwd() / parentdir / str(i).split(sep=\"\\\\\")[1]\n",
    "        savedir.mkdir(parents=True, exist_ok=True)\n",
    "        new_file = savedir / (i.name + '.png')\n",
    "        with open(i, 'r') as f1:\n",
    "            with open(new_file, 'w') as f2:\n",
    "                try:\n",
    "                    f2.write(f1.read())\n",
    "                except UnicodeDecodeError:\n",
    "                    f2.write(f1.read())"
   ]
  }
 ],
 "metadata": {
  "kernelspec": {
   "display_name": "mydre",
   "language": "python",
   "name": "mydre"
  },
  "language_info": {
   "codemirror_mode": {
    "name": "ipython",
    "version": 3
   },
   "file_extension": ".py",
   "mimetype": "text/x-python",
   "name": "python",
   "nbconvert_exporter": "python",
   "pygments_lexer": "ipython3",
   "version": "3.9.7"
  }
 },
 "nbformat": 4,
 "nbformat_minor": 5
}
