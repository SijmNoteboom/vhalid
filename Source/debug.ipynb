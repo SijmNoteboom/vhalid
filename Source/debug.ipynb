{
 "cells": [
  {
   "cell_type": "code",
   "execution_count": 1,
   "id": "8bdcb1e6",
   "metadata": {},
   "outputs": [],
   "source": [
    "%load_ext autoreload\n",
    "%autoreload 2"
   ]
  },
  {
   "cell_type": "code",
   "execution_count": 2,
   "id": "1e767a15",
   "metadata": {},
   "outputs": [],
   "source": [
    "import os\n",
    "os.chdir('../../vhalid/')"
   ]
  },
  {
   "cell_type": "code",
   "execution_count": 3,
   "id": "0252ccbf",
   "metadata": {},
   "outputs": [],
   "source": [
    "from Demographics import Demographics\n",
    "from Castor import Castor\n",
    "import warnings\n",
    "warnings.filterwarnings(\"ignore\")"
   ]
  },
  {
   "cell_type": "code",
   "execution_count": 10,
   "id": "0e0b48a1",
   "metadata": {
    "scrolled": true
   },
   "outputs": [],
   "source": [
    "pt = Demographics(16, Castor())"
   ]
  },
  {
   "cell_type": "code",
   "execution_count": 11,
   "id": "7fe6e5de",
   "metadata": {},
   "outputs": [
    {
     "name": "stdout",
     "output_type": "stream",
     "text": [
      "Patient ID = 017\n"
     ]
    }
   ],
   "source": [
    "pt.get_demographics()"
   ]
  },
  {
   "cell_type": "code",
   "execution_count": 12,
   "id": "80ad8f83",
   "metadata": {},
   "outputs": [
    {
     "data": {
      "text/html": [
       "<div>\n",
       "<style scoped>\n",
       "    .dataframe tbody tr th:only-of-type {\n",
       "        vertical-align: middle;\n",
       "    }\n",
       "\n",
       "    .dataframe tbody tr th {\n",
       "        vertical-align: top;\n",
       "    }\n",
       "\n",
       "    .dataframe thead th {\n",
       "        text-align: right;\n",
       "    }\n",
       "</style>\n",
       "<table border=\"1\" class=\"dataframe\">\n",
       "  <thead>\n",
       "    <tr style=\"text-align: right;\">\n",
       "      <th></th>\n",
       "      <th></th>\n",
       "    </tr>\n",
       "  </thead>\n",
       "  <tbody>\n",
       "    <tr>\n",
       "      <th>Age (yrs)</th>\n",
       "      <td>66</td>\n",
       "    </tr>\n",
       "    <tr>\n",
       "      <th>Type of surgery</th>\n",
       "      <td>Valve-Sparing Root Replacement (VSRR)</td>\n",
       "    </tr>\n",
       "    <tr>\n",
       "      <th>Weight (kg)</th>\n",
       "      <td>66.5</td>\n",
       "    </tr>\n",
       "  </tbody>\n",
       "</table>\n",
       "</div>"
      ],
      "text/plain": [
       "                                                      \n",
       "Age (yrs)                                           66\n",
       "Type of surgery  Valve-Sparing Root Replacement (VSRR)\n",
       "Weight (kg)                                       66.5"
      ]
     },
     "execution_count": 12,
     "metadata": {},
     "output_type": "execute_result"
    }
   ],
   "source": [
    "pt.demograph_df"
   ]
  },
  {
   "cell_type": "code",
   "execution_count": 13,
   "id": "39f82538",
   "metadata": {},
   "outputs": [
    {
     "data": {
      "text/html": [
       "<div>\n",
       "<style scoped>\n",
       "    .dataframe tbody tr th:only-of-type {\n",
       "        vertical-align: middle;\n",
       "    }\n",
       "\n",
       "    .dataframe tbody tr th {\n",
       "        vertical-align: top;\n",
       "    }\n",
       "\n",
       "    .dataframe thead th {\n",
       "        text-align: right;\n",
       "    }\n",
       "</style>\n",
       "<table border=\"1\" class=\"dataframe\">\n",
       "  <thead>\n",
       "    <tr style=\"text-align: right;\">\n",
       "      <th></th>\n",
       "      <th></th>\n",
       "    </tr>\n",
       "  </thead>\n",
       "  <tbody>\n",
       "  </tbody>\n",
       "</table>\n",
       "</div>"
      ],
      "text/plain": [
       "Empty DataFrame\n",
       "Columns: []\n",
       "Index: []"
      ]
     },
     "execution_count": 13,
     "metadata": {},
     "output_type": "execute_result"
    }
   ],
   "source": [
    "pt.get_history()\n",
    "pt.history"
   ]
  },
  {
   "cell_type": "code",
   "execution_count": 16,
   "id": "d2aa088c",
   "metadata": {},
   "outputs": [
    {
     "data": {
      "text/html": [
       "<div>\n",
       "<style scoped>\n",
       "    .dataframe tbody tr th:only-of-type {\n",
       "        vertical-align: middle;\n",
       "    }\n",
       "\n",
       "    .dataframe tbody tr th {\n",
       "        vertical-align: top;\n",
       "    }\n",
       "\n",
       "    .dataframe thead th {\n",
       "        text-align: right;\n",
       "    }\n",
       "</style>\n",
       "<table border=\"1\" class=\"dataframe\">\n",
       "  <thead>\n",
       "    <tr style=\"text-align: right;\">\n",
       "      <th></th>\n",
       "      <th></th>\n",
       "    </tr>\n",
       "  </thead>\n",
       "  <tbody>\n",
       "  </tbody>\n",
       "</table>\n",
       "</div>"
      ],
      "text/plain": [
       "Empty DataFrame\n",
       "Columns: []\n",
       "Index: []"
      ]
     },
     "execution_count": 16,
     "metadata": {},
     "output_type": "execute_result"
    }
   ],
   "source": [
    "pt.get_medication()\n",
    "pt.medication"
   ]
  },
  {
   "cell_type": "code",
   "execution_count": 15,
   "id": "ea2a59fa",
   "metadata": {},
   "outputs": [
    {
     "data": {
      "text/html": [
       "<div>\n",
       "<style scoped>\n",
       "    .dataframe tbody tr th:only-of-type {\n",
       "        vertical-align: middle;\n",
       "    }\n",
       "\n",
       "    .dataframe tbody tr th {\n",
       "        vertical-align: top;\n",
       "    }\n",
       "\n",
       "    .dataframe thead th {\n",
       "        text-align: right;\n",
       "    }\n",
       "</style>\n",
       "<table border=\"1\" class=\"dataframe\">\n",
       "  <thead>\n",
       "    <tr style=\"text-align: right;\">\n",
       "      <th></th>\n",
       "      <th></th>\n",
       "    </tr>\n",
       "  </thead>\n",
       "  <tbody>\n",
       "    <tr>\n",
       "      <th>Age (yrs)</th>\n",
       "      <td>66</td>\n",
       "    </tr>\n",
       "    <tr>\n",
       "      <th>Type of surgery</th>\n",
       "      <td>Valve-Sparing Root Replacement (VSRR)</td>\n",
       "    </tr>\n",
       "    <tr>\n",
       "      <th>Weight (kg)</th>\n",
       "      <td>66.5</td>\n",
       "    </tr>\n",
       "    <tr>\n",
       "      <th>Stop medication, prior to surgery (hrs):</th>\n",
       "      <td>0.0</td>\n",
       "    </tr>\n",
       "  </tbody>\n",
       "</table>\n",
       "</div>"
      ],
      "text/plain": [
       "                                                                               \n",
       "Age (yrs)                                                                    66\n",
       "Type of surgery                           Valve-Sparing Root Replacement (VSRR)\n",
       "Weight (kg)                                                                66.5\n",
       "Stop medication, prior to surgery (hrs):                                    0.0"
      ]
     },
     "execution_count": 15,
     "metadata": {},
     "output_type": "execute_result"
    }
   ],
   "source": [
    "import pandas as pd\n",
    "pd.concat((pt.demograph_df, pt.history, pt.medication))"
   ]
  },
  {
   "cell_type": "code",
   "execution_count": 56,
   "id": "6062b41a",
   "metadata": {},
   "outputs": [],
   "source": [
    "Castor._print_dataframe(pd.concat((pt.demograph_df, pt.history, pt.medication)))"
   ]
  },
  {
   "cell_type": "code",
   "execution_count": 18,
   "id": "32145dc8",
   "metadata": {},
   "outputs": [],
   "source": [
    "# pt.demograph_df\n",
    "x = [\"beta-blockers\", \"thiopental\"]"
   ]
  },
  {
   "cell_type": "code",
   "execution_count": null,
   "id": "2d3eafae",
   "metadata": {},
   "outputs": [],
   "source": []
  }
 ],
 "metadata": {
  "kernelspec": {
   "display_name": "mydre",
   "language": "python",
   "name": "mydre"
  },
  "language_info": {
   "codemirror_mode": {
    "name": "ipython",
    "version": 3
   },
   "file_extension": ".py",
   "mimetype": "text/x-python",
   "name": "python",
   "nbconvert_exporter": "python",
   "pygments_lexer": "ipython3",
   "version": "3.9.7"
  }
 },
 "nbformat": 4,
 "nbformat_minor": 5
}
