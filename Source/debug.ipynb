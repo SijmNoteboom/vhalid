{
 "cells": [
  {
   "cell_type": "code",
   "execution_count": 1,
   "id": "8bdcb1e6",
   "metadata": {},
   "outputs": [],
   "source": [
    "%load_ext autoreload\n",
    "%autoreload 2"
   ]
  },
  {
   "cell_type": "code",
   "execution_count": 2,
   "id": "1e767a15",
   "metadata": {},
   "outputs": [],
   "source": [
    "import os\n",
    "os.chdir('../../vhalid/')"
   ]
  },
  {
   "cell_type": "code",
   "execution_count": 10,
   "id": "0252ccbf",
   "metadata": {},
   "outputs": [],
   "source": [
    "from Demographics import Demographics\n",
    "from Castor import Castor\n",
    "import warnings\n",
    "warnings.filterwarnings(\"ignore\")"
   ]
  },
  {
   "cell_type": "code",
   "execution_count": 29,
   "id": "0e0b48a1",
   "metadata": {
    "scrolled": true
   },
   "outputs": [],
   "source": [
    "pt = Demographics(14, Castor())"
   ]
  },
  {
   "cell_type": "code",
   "execution_count": 45,
   "id": "7fe6e5de",
   "metadata": {},
   "outputs": [
    {
     "name": "stdout",
     "output_type": "stream",
     "text": [
      "Patient ID = 015\n"
     ]
    }
   ],
   "source": [
    "pt.get_demographics()"
   ]
  },
  {
   "cell_type": "code",
   "execution_count": 46,
   "id": "80ad8f83",
   "metadata": {},
   "outputs": [
    {
     "data": {
      "text/html": [
       "<div>\n",
       "<style scoped>\n",
       "    .dataframe tbody tr th:only-of-type {\n",
       "        vertical-align: middle;\n",
       "    }\n",
       "\n",
       "    .dataframe tbody tr th {\n",
       "        vertical-align: top;\n",
       "    }\n",
       "\n",
       "    .dataframe thead th {\n",
       "        text-align: right;\n",
       "    }\n",
       "</style>\n",
       "<table border=\"1\" class=\"dataframe\">\n",
       "  <thead>\n",
       "    <tr style=\"text-align: right;\">\n",
       "      <th></th>\n",
       "      <th></th>\n",
       "    </tr>\n",
       "  </thead>\n",
       "  <tbody>\n",
       "    <tr>\n",
       "      <th>Age</th>\n",
       "      <td>79</td>\n",
       "    </tr>\n",
       "    <tr>\n",
       "      <th>Type of surgery</th>\n",
       "      <td>Valve-Sparing Root Replacement (VSRR)</td>\n",
       "    </tr>\n",
       "  </tbody>\n",
       "</table>\n",
       "</div>"
      ],
      "text/plain": [
       "                                                      \n",
       "Age                                                 79\n",
       "Type of surgery  Valve-Sparing Root Replacement (VSRR)"
      ]
     },
     "execution_count": 46,
     "metadata": {},
     "output_type": "execute_result"
    }
   ],
   "source": [
    "pt.demograph_df"
   ]
  },
  {
   "cell_type": "code",
   "execution_count": 53,
   "id": "39f82538",
   "metadata": {},
   "outputs": [
    {
     "data": {
      "text/html": [
       "<div>\n",
       "<style scoped>\n",
       "    .dataframe tbody tr th:only-of-type {\n",
       "        vertical-align: middle;\n",
       "    }\n",
       "\n",
       "    .dataframe tbody tr th {\n",
       "        vertical-align: top;\n",
       "    }\n",
       "\n",
       "    .dataframe thead th {\n",
       "        text-align: right;\n",
       "    }\n",
       "</style>\n",
       "<table border=\"1\" class=\"dataframe\">\n",
       "  <thead>\n",
       "    <tr style=\"text-align: right;\">\n",
       "      <th></th>\n",
       "      <th></th>\n",
       "    </tr>\n",
       "  </thead>\n",
       "  <tbody>\n",
       "  </tbody>\n",
       "</table>\n",
       "</div>"
      ],
      "text/plain": [
       "Empty DataFrame\n",
       "Columns: []\n",
       "Index: []"
      ]
     },
     "execution_count": 53,
     "metadata": {},
     "output_type": "execute_result"
    }
   ],
   "source": [
    "pt.get_history()\n",
    "pt.history"
   ]
  },
  {
   "cell_type": "code",
   "execution_count": 54,
   "id": "d2aa088c",
   "metadata": {},
   "outputs": [
    {
     "data": {
      "text/html": [
       "<div>\n",
       "<style scoped>\n",
       "    .dataframe tbody tr th:only-of-type {\n",
       "        vertical-align: middle;\n",
       "    }\n",
       "\n",
       "    .dataframe tbody tr th {\n",
       "        vertical-align: top;\n",
       "    }\n",
       "\n",
       "    .dataframe thead th {\n",
       "        text-align: right;\n",
       "    }\n",
       "</style>\n",
       "<table border=\"1\" class=\"dataframe\">\n",
       "  <thead>\n",
       "    <tr style=\"text-align: right;\">\n",
       "      <th></th>\n",
       "      <th></th>\n",
       "    </tr>\n",
       "  </thead>\n",
       "  <tbody>\n",
       "    <tr>\n",
       "      <th>Current medication:</th>\n",
       "      <td>Platelet inhibitors</td>\n",
       "    </tr>\n",
       "    <tr>\n",
       "      <th>Stop medication, prior to surgery (hrs):</th>\n",
       "      <td>48.0</td>\n",
       "    </tr>\n",
       "  </tbody>\n",
       "</table>\n",
       "</div>"
      ],
      "text/plain": [
       "                                                             \n",
       "Current medication:                       Platelet inhibitors\n",
       "Stop medication, prior to surgery (hrs):                 48.0"
      ]
     },
     "execution_count": 54,
     "metadata": {},
     "output_type": "execute_result"
    }
   ],
   "source": [
    "pt.get_medication()\n",
    "pt.medication"
   ]
  },
  {
   "cell_type": "code",
   "execution_count": 55,
   "id": "ea2a59fa",
   "metadata": {},
   "outputs": [
    {
     "data": {
      "text/html": [
       "<div>\n",
       "<style scoped>\n",
       "    .dataframe tbody tr th:only-of-type {\n",
       "        vertical-align: middle;\n",
       "    }\n",
       "\n",
       "    .dataframe tbody tr th {\n",
       "        vertical-align: top;\n",
       "    }\n",
       "\n",
       "    .dataframe thead th {\n",
       "        text-align: right;\n",
       "    }\n",
       "</style>\n",
       "<table border=\"1\" class=\"dataframe\">\n",
       "  <thead>\n",
       "    <tr style=\"text-align: right;\">\n",
       "      <th></th>\n",
       "      <th></th>\n",
       "    </tr>\n",
       "  </thead>\n",
       "  <tbody>\n",
       "    <tr>\n",
       "      <th>Age</th>\n",
       "      <td>79</td>\n",
       "    </tr>\n",
       "    <tr>\n",
       "      <th>Type of surgery</th>\n",
       "      <td>Valve-Sparing Root Replacement (VSRR)</td>\n",
       "    </tr>\n",
       "    <tr>\n",
       "      <th>Current medication:</th>\n",
       "      <td>Platelet inhibitors</td>\n",
       "    </tr>\n",
       "    <tr>\n",
       "      <th>Stop medication, prior to surgery (hrs):</th>\n",
       "      <td>48.0</td>\n",
       "    </tr>\n",
       "  </tbody>\n",
       "</table>\n",
       "</div>"
      ],
      "text/plain": [
       "                                                                               \n",
       "Age                                                                          79\n",
       "Type of surgery                           Valve-Sparing Root Replacement (VSRR)\n",
       "Current medication:                                         Platelet inhibitors\n",
       "Stop medication, prior to surgery (hrs):                                   48.0"
      ]
     },
     "execution_count": 55,
     "metadata": {},
     "output_type": "execute_result"
    }
   ],
   "source": [
    "import pandas as pd\n",
    "pd.concat((pt.demograph_df, pt.history, pt.medication))"
   ]
  },
  {
   "cell_type": "code",
   "execution_count": 56,
   "id": "6062b41a",
   "metadata": {},
   "outputs": [],
   "source": [
    "Castor._print_dataframe(pd.concat((pt.demograph_df, pt.history, pt.medication)))"
   ]
  },
  {
   "cell_type": "code",
   "execution_count": null,
   "id": "32145dc8",
   "metadata": {},
   "outputs": [],
   "source": []
  }
 ],
 "metadata": {
  "kernelspec": {
   "display_name": "mydre",
   "language": "python",
   "name": "mydre"
  },
  "language_info": {
   "codemirror_mode": {
    "name": "ipython",
    "version": 3
   },
   "file_extension": ".py",
   "mimetype": "text/x-python",
   "name": "python",
   "nbconvert_exporter": "python",
   "pygments_lexer": "ipython3",
   "version": "3.9.7"
  }
 },
 "nbformat": 4,
 "nbformat_minor": 5
}
