{
 "cells": [
  {
   "cell_type": "code",
   "execution_count": 1,
   "id": "0a4aeeee",
   "metadata": {},
   "outputs": [],
   "source": [
    "%load_ext autoreload\n",
    "%autoreload 2"
   ]
  },
  {
   "cell_type": "code",
   "execution_count": 2,
   "id": "15fd4dd5",
   "metadata": {},
   "outputs": [],
   "source": [
    "import os\n",
    "os.chdir('../../vhalid/')"
   ]
  },
  {
   "cell_type": "code",
   "execution_count": 5,
   "id": "56080f51",
   "metadata": {},
   "outputs": [],
   "source": [
    "from Demographics import Demographics\n",
    "from Castor import Castor"
   ]
  },
  {
   "cell_type": "code",
   "execution_count": 7,
   "id": "43678b1d",
   "metadata": {
    "scrolled": true
   },
   "outputs": [],
   "source": [
    "pt = Demographics(12, Castor())"
   ]
  },
  {
   "cell_type": "code",
   "execution_count": 10,
   "id": "9c9c57a9",
   "metadata": {},
   "outputs": [],
   "source": [
    "pt.get_history()"
   ]
  },
  {
   "cell_type": "code",
   "execution_count": 12,
   "id": "c9cc4c6e",
   "metadata": {},
   "outputs": [
    {
     "data": {
      "text/plain": [
       "38"
      ]
     },
     "execution_count": 12,
     "metadata": {},
     "output_type": "execute_result"
    }
   ],
   "source": [
    "pt.row.index.get_loc(\"3.4|Thuismedicatie: gebruikt patiënt thrombocytenaggregatieremmers?(Nee)\")"
   ]
  },
  {
   "cell_type": "code",
   "execution_count": null,
   "id": "1e975ae6",
   "metadata": {},
   "outputs": [
    {
     "name": "stderr",
     "output_type": "stream",
     "text": [
      "C:\\Users\\sijmn\\Documents\\allProjects\\PhD\\vhalid\\Source\\Demographics.py:37: FutureWarning:\n",
      "\n",
      "The default dtype for empty Series will be 'object' instead of 'float64' in a future version. Specify a dtype explicitly to silence this warning.\n",
      "\n",
      "C:\\Users\\sijmn\\Documents\\allProjects\\PhD\\vhalid\\Source\\Demographics.py:38: FutureWarning:\n",
      "\n",
      "The default dtype for empty Series will be 'object' instead of 'float64' in a future version. Specify a dtype explicitly to silence this warning.\n",
      "\n"
     ]
    },
    {
     "name": "stdout",
     "output_type": "stream",
     "text": [
      "> \u001b[1;32mc:\\users\\sijmn\\documents\\allprojects\\phd\\vhalid\\source\\demographics.py\u001b[0m(68)\u001b[0;36mget_medication\u001b[1;34m()\u001b[0m\n",
      "\u001b[1;32m     66 \u001b[1;33m                    \u001b[1;32mcontinue\u001b[0m\u001b[1;33m\u001b[0m\u001b[1;33m\u001b[0m\u001b[0m\n",
      "\u001b[0m\u001b[1;32m     67 \u001b[1;33m            \u001b[1;32mimport\u001b[0m \u001b[0mpdb\u001b[0m\u001b[1;33m;\u001b[0m \u001b[0mpdb\u001b[0m\u001b[1;33m.\u001b[0m\u001b[0mset_trace\u001b[0m\u001b[1;33m(\u001b[0m\u001b[1;33m)\u001b[0m\u001b[1;33m\u001b[0m\u001b[1;33m\u001b[0m\u001b[0m\n",
      "\u001b[0m\u001b[1;32m---> 68 \u001b[1;33m            \u001b[0moverview_meds\u001b[0m \u001b[1;33m=\u001b[0m \u001b[0moverview_meds\u001b[0m\u001b[1;33m.\u001b[0m\u001b[0mappend\u001b[0m\u001b[1;33m(\u001b[0m\u001b[1;33m{\u001b[0m\u001b[1;34m'Coagulation related medication'\u001b[0m\u001b[1;33m:\u001b[0m \u001b[0mmed_type\u001b[0m\u001b[1;33m}\u001b[0m\u001b[1;33m,\u001b[0m \u001b[0mignore_index\u001b[0m\u001b[1;33m=\u001b[0m\u001b[1;32mTrue\u001b[0m\u001b[1;33m)\u001b[0m\u001b[1;33m\u001b[0m\u001b[1;33m\u001b[0m\u001b[0m\n",
      "\u001b[0m\u001b[1;32m     69 \u001b[1;33m        \u001b[0moverview_meds\u001b[0m\u001b[1;33m.\u001b[0m\u001b[0mloc\u001b[0m\u001b[1;33m[\u001b[0m\u001b[1;34m\"Stop medication, prior to surgery (hrs)\"\u001b[0m\u001b[1;33m]\u001b[0m \u001b[1;33m=\u001b[0m \u001b[0mself\u001b[0m\u001b[1;33m.\u001b[0m\u001b[0mrow\u001b[0m\u001b[1;33m[\u001b[0m\u001b[1;34m\"Stop_Thuis_Medicatie\"\u001b[0m\u001b[1;33m]\u001b[0m\u001b[1;33m\u001b[0m\u001b[1;33m\u001b[0m\u001b[0m\n",
      "\u001b[0m\u001b[1;32m     70 \u001b[1;33m        \u001b[0mself\u001b[0m\u001b[1;33m.\u001b[0m\u001b[0mmedication\u001b[0m \u001b[1;33m=\u001b[0m \u001b[0moverview_meds\u001b[0m\u001b[1;33m\u001b[0m\u001b[1;33m\u001b[0m\u001b[0m\n",
      "\u001b[0m\n",
      "ipdb> overview_meds.append({'Coagulation related medication': med_type}, ignore_index=True)\n"
     ]
    },
    {
     "name": "stderr",
     "output_type": "stream",
     "text": [
      "<stdin>:1: FutureWarning:\n",
      "\n",
      "The frame.append method is deprecated and will be removed from pandas in a future version. Use pandas.concat instead.\n",
      "\n"
     ]
    },
    {
     "name": "stdout",
     "output_type": "stream",
     "text": [
      "     Coagulation related medication\n",
      "0  Direct_Oral_Anticoagulants_DOACs\n",
      "ipdb> overview_meds.concat({'Coagulation related medication': med_type}, ignore_index=True)\n",
      "*** AttributeError: 'DataFrame' object has no attribute 'concat'\n",
      "ipdb> overview_meds.append((med_type)), ignore_index=True)\n",
      "*** SyntaxError: cannot assign to function call\n",
      "ipdb> overview_meds.concat((med_type)), ignore_index=True)\n",
      "*** SyntaxError: cannot assign to function call\n",
      "ipdb> overview_meds.concat((med_type), ignore_index=True)\n",
      "*** AttributeError: 'DataFrame' object has no attribute 'concat'\n",
      "ipdb> pd.concat((overview_meds, med_type))\n",
      "*** TypeError: cannot concatenate object of type '<class 'str'>'; only Series and DataFrame objs are valid\n"
     ]
    }
   ],
   "source": [
    "pt.get_medication()"
   ]
  },
  {
   "cell_type": "code",
   "execution_count": 28,
   "id": "b46860c1",
   "metadata": {},
   "outputs": [
    {
     "data": {
      "text/html": [
       "<div>\n",
       "<style scoped>\n",
       "    .dataframe tbody tr th:only-of-type {\n",
       "        vertical-align: middle;\n",
       "    }\n",
       "\n",
       "    .dataframe tbody tr th {\n",
       "        vertical-align: top;\n",
       "    }\n",
       "\n",
       "    .dataframe thead th {\n",
       "        text-align: right;\n",
       "    }\n",
       "</style>\n",
       "<table border=\"1\" class=\"dataframe\">\n",
       "  <thead>\n",
       "    <tr style=\"text-align: right;\">\n",
       "      <th></th>\n",
       "      <th>Coagulation related medication</th>\n",
       "    </tr>\n",
       "  </thead>\n",
       "  <tbody>\n",
       "    <tr>\n",
       "      <th>0</th>\n",
       "      <td>Direct_Oral_Anticoagulants_DOACs</td>\n",
       "    </tr>\n",
       "    <tr>\n",
       "      <th>Stop medication, prior to surgery (hrs)</th>\n",
       "      <td>72.0</td>\n",
       "    </tr>\n",
       "  </tbody>\n",
       "</table>\n",
       "</div>"
      ],
      "text/plain": [
       "                                           Coagulation related medication\n",
       "0                                        Direct_Oral_Anticoagulants_DOACs\n",
       "Stop medication, prior to surgery (hrs)                              72.0"
      ]
     },
     "execution_count": 28,
     "metadata": {},
     "output_type": "execute_result"
    }
   ],
   "source": [
    "pt.medication"
   ]
  }
 ],
 "metadata": {
  "kernelspec": {
   "display_name": "mydre",
   "language": "python",
   "name": "mydre"
  },
  "language_info": {
   "codemirror_mode": {
    "name": "ipython",
    "version": 3
   },
   "file_extension": ".py",
   "mimetype": "text/x-python",
   "name": "python",
   "nbconvert_exporter": "python",
   "pygments_lexer": "ipython3",
   "version": "3.9.7"
  }
 },
 "nbformat": 4,
 "nbformat_minor": 5
}
